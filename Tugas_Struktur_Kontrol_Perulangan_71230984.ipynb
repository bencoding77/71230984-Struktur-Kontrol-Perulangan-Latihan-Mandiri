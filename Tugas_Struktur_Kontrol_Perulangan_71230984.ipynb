{
  "nbformat": 4,
  "nbformat_minor": 0,
  "metadata": {
    "colab": {
      "provenance": []
    },
    "kernelspec": {
      "name": "python3",
      "display_name": "Python 3"
    },
    "language_info": {
      "name": "python"
    }
  },
  "cells": [
    {
      "cell_type": "markdown",
      "source": [
        "Soal 1"
      ],
      "metadata": {
        "id": "g09h9cBoGkI-"
      }
    },
    {
      "cell_type": "code",
      "execution_count": 6,
      "metadata": {
        "colab": {
          "base_uri": "https://localhost:8080/"
        },
        "id": "7VkjEsWQGJWd",
        "outputId": "88b445b9-d697-4769-f0eb-1b3b16f0b39c"
      },
      "outputs": [
        {
          "output_type": "stream",
          "name": "stdout",
          "text": [
            "Masukkan jumlah perkalian: 5\n",
            "Masukkan bilangan yang ingin ditambahkan berulang: 7\n",
            "5 x 7 = 7 + 7 + 7 + 7 + 7 = 35\n"
          ]
        }
      ],
      "source": [
        "def perkalian():\n",
        "    jumlah = int(input(\"Masukkan jumlah perkalian: \"))\n",
        "    tambah = int(input(\"Masukkan bilangan yang ingin ditambahkan berulang: \"))\n",
        "\n",
        "    data_awal = (f\"{jumlah} x {tambah} =\")\n",
        "    penjumlahan_ulang = (f\" + \".join([str(tambah) for i in range(jumlah)]))\n",
        "    hasil_akhir = (f\"= {jumlah*tambah}\")\n",
        "\n",
        "    print(data_awal, penjumlahan_ulang, hasil_akhir)\n",
        "\n",
        "perkalian()"
      ]
    },
    {
      "cell_type": "markdown",
      "source": [
        "Soal 2"
      ],
      "metadata": {
        "id": "2jJB7Y6LG0Qj"
      }
    },
    {
      "cell_type": "code",
      "source": [
        "def ganjil():\n",
        "    if batas_bawah < batas_atas:\n",
        "        for i in range(batas_bawah, batas_atas + 1):\n",
        "            if i % 2 != 0:\n",
        "                print(i)\n",
        "    elif batas_bawah > batas_atas:\n",
        "        for i in range(batas_bawah, batas_atas -1, -1):\n",
        "            if i % 2 != 0:\n",
        "                print(i)\n",
        "\n",
        "batas_bawah = int(input(\"Masukkan batas bawah: \"))\n",
        "batas_atas = int(input(\"Masukkan batas atas: \"))\n",
        "ganjil()"
      ],
      "metadata": {
        "colab": {
          "base_uri": "https://localhost:8080/"
        },
        "id": "3jEFCVqNG2EE",
        "outputId": "3f3e5851-f42e-4c4b-9e34-910041912ed5"
      },
      "execution_count": 11,
      "outputs": [
        {
          "output_type": "stream",
          "name": "stdout",
          "text": [
            "Masukkan batas bawah: 20\n",
            "Masukkan batas atas: 5\n",
            "19\n",
            "17\n",
            "15\n",
            "13\n",
            "11\n",
            "9\n",
            "7\n",
            "5\n"
          ]
        }
      ]
    },
    {
      "cell_type": "markdown",
      "source": [
        "Soal 3"
      ],
      "metadata": {
        "id": "EzPF0jvuHW6Q"
      }
    },
    {
      "cell_type": "code",
      "source": [
        "def ips():\n",
        "    mata_kuliah = int(input(\"Masukkan berapa mata kuliah: \"))\n",
        "    total = 0\n",
        "    for i in range(1, mata_kuliah + 1):\n",
        "        x = input(f\"Nilai Mata Kuliah {i}: \")\n",
        "\n",
        "        if x == \"A\":\n",
        "            total += 4\n",
        "        elif x == \"B\":\n",
        "            total += 3\n",
        "        elif x == \"C\":\n",
        "            total += 2\n",
        "        elif x == \"D\":\n",
        "            total += 1\n",
        "\n",
        "    total = total/i\n",
        "    print(f\"Nilai IPS Anda pada semester sekarang adalah: {total:.2f}\")\n",
        "\n",
        "ips()"
      ],
      "metadata": {
        "colab": {
          "base_uri": "https://localhost:8080/"
        },
        "id": "9KFU1NPsHYYd",
        "outputId": "1e6879b7-6ce7-4526-d077-ea755d5b8503"
      },
      "execution_count": 5,
      "outputs": [
        {
          "output_type": "stream",
          "name": "stdout",
          "text": [
            "Masukkan berapa mata kuliah: 3\n",
            "Nilai Mata Kuliah 1: B\n",
            "Nilai Mata Kuliah 2: C\n",
            "Nilai Mata Kuliah 3: A\n",
            "Nilai IPS Anda pada semester sekarang adalah: 3.00\n"
          ]
        }
      ]
    }
  ]
}